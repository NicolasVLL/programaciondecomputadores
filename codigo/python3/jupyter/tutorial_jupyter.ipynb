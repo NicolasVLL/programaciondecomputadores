{
 "cells": [
  {
   "cell_type": "markdown",
   "metadata": {},
   "source": [
    "# Tutorial de Jupyter\n",
    "\n",
    "JUPYTER = (JU=julia, PY=python, R=lenguaje R)\n",
    "\n",
    "sin embargo soporta más de 40 lenguajes de programación\n",
    "\n",
    "http://datascience.ibm.com/blog/markdown-for-jupyter-notebooks-cheatsheet/\n",
    "\n",
    "Creado inicialmente por Fernando Pérez en 2001. Fernando Pérez nació en Medellín. Es un físico egresado de la Universidad de Antioquia. Estudios de doctorado en la Universidad de Colorado. Actualmente trabaja como investigador en la Universidad de California en Berkeley. En el 2012 recibió  el \"Free Software Award\" por parte de la \"Free Software Foundation\", uno de los máximos galardones que se le otorga a alguien que contribuye al software libre.\n",
    "\n",
    "Un ejemplo de las cosas chéveres que se puede hacer con Jupyter es:\n",
    "https://github.com/jupyter/jupyter/wiki/A-gallery-of-interesting-Jupyter-Notebooks"
   ]
  },
  {
   "cell_type": "code",
   "execution_count": null,
   "metadata": {
    "collapsed": true
   },
   "outputs": [],
   "source": []
  }
 ],
 "metadata": {
  "kernelspec": {
   "display_name": "Python 3",
   "language": "python",
   "name": "python3"
  },
  "language_info": {
   "codemirror_mode": {
    "name": "ipython",
    "version": 3
   },
   "file_extension": ".py",
   "mimetype": "text/x-python",
   "name": "python",
   "nbconvert_exporter": "python",
   "pygments_lexer": "ipython3",
   "version": "3.6.1"
  }
 },
 "nbformat": 4,
 "nbformat_minor": 2
}
